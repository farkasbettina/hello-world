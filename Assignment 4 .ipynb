{
 "cells": [
  {
   "cell_type": "markdown",
   "metadata": {},
   "source": [
    "# Assignment 4\n",
    "\n",
    "## Competition in Ready-Mix Concrete Manufacturing\n",
    "\n",
    "![A Concrete Example](pics/readymixConcrete.jpg)\n",
    "\n",
    "This assignment asks you to study competition in local markets of the Ready-Mix Concrete Manufacturing industry ([NAICS 327320](https://www.census.gov/econ/isp/sampler.php?naicscode=327320&naicslevel=6)). To this end, you can use the script below to estimate a simple version of [Abbring, Campbell, Tilly and Yang's (2017)](https://edubb.uvt.nl/bbcswebdav/pid-1678085-dt-content-rid-5981553_1/courses/325134-2017-2018/acty1b.pdf) dynamic model of oligopolistic entry, competition, and exit, using data from the U.S. Census Bureau. See e.g. the work of Chad Syverson and that of Allan Collard-Wexler for more information about and economic analyses of the Ready-Mix Concrete Manufacturing industry."
   ]
  },
  {
   "cell_type": "markdown",
   "metadata": {},
   "source": [
    "|             | Computation time | mu     | sigma  | k1   | k2   | k3   | k4   | phi   | omega |\n",
    "|-------------|------------------|--------|--------|------|------|------|------|-------|-------|\n",
    "| inner=1е-6  | 550              | 0,0034 | 0,0112 | 0,38 | 0,26 | 0,22 | 0,17 | 27,72 | 1,59  |\n",
    "| inner=1е-10 | 565              | 0,0034 | 0,0112 | 0,38 | 0,26 | 0,22 | 0,17 | 27,72 | 1,59  |\n",
    "| inner=1е-12 | 859              | 0,0034 | 0,0112 | 0,38 | 0,26 | 0,22 | 0,17 | 27,72 | 1,59  |\n",
    "| outer=1e-2  | 480              | 0,002  | 0,0154 | 0,4  | 0,27 | 0,23 | 0,18 | 26,44 | 1,56  |\n",
    "| outer=1e-6  | 565              | 0,0034 | 0,0112 | 0,38 | 0,26 | 0,22 | 0,17 | 27,72 | 1,59  |\n",
    "| outer=1e-10 | 1244             | 0,0034 | 0,0112 | 0,38 | 0,26 | 0,22 | 0,17 | 27,72 | 1,59  |\n",
    "| Grid=500    | 215              | 0,0034 | 0,0113 | 0,38 | 0,26 | 0,22 | 0,17 | 27,72 | 1,6   |\n",
    "| Grid=1000   | 565              | 0,0034 | 0,0112 | 0,38 | 0,26 | 0,22 | 0,17 | 27,72 | 1,59  |\n",
    "| Grid=1500   | 2122             | 0,0034 | 0,0111 | 0,38 | 0,26 | 0,22 | 0,17 | 27,72 | 1,59  |"
   ]
  },
  {
   "cell_type": "markdown",
   "metadata": {
    "collapsed": true
   },
   "source": [
    "## Script for Estimating a Very Simple Industry Dynamics Model\n",
    "\n",
    "This script is an adapted version of the script [example.m](example.m) in the Matlab package at [verysimple.abbring.org](http://verysimple.abbring.org). It calls various functions from that package, which we have included with this notebook. Please see [documentation.m.html](documentation.m.html) for detailed documentation of the original script and functions. Here, we only comment on parts of the script that are specific to this assignment.\n",
    "\n",
    "\n",
    "### Numerical Settings "
   ]
  },
  {
   "cell_type": "code",
   "execution_count": null,
   "metadata": {
    "collapsed": true
   },
   "outputs": [],
   "source": [
    "Settings.tolInner = 1e-10;\n",
    "Settings.tolOuter = 1e-6;\n",
    "Settings.maxIter = 1000;\n",
    "\n",
    "Settings.fdStep = 1e-7;\n",
    "\n",
    "Settings.integrationLength = 32;\n",
    "[Settings.integrationNodes, Settings.integrationWeights] = ...\n",
    "    lgwt(Settings.integrationLength, 0, 1);\n",
    "    \n",
    "options = optimset( 'Algorithm', 'interior-point', 'Display', 'iter', ...\n",
    "    'TolFun', Settings.tolOuter, 'TolX', Settings.tolOuter, ...\n",
    "    'GradObj', 'off');"
   ]
  },
  {
   "cell_type": "markdown",
   "metadata": {},
   "source": [
    "### Load and Process Data\n",
    "\n",
    "The script requires the included text file [readymixConcrete.txt](readymixConcrete.txt), which contains annual observations of the numbers of Ready-Mix Concrete Manufacturing plants in 573 local markets (U.S. Micropolitan Statistical Areas) for the 2000–2009 period. It also contains the population of each local market in each year.\n",
    "\n",
    "We have extracted these data from the Stata data file [markets.dta](markets.dta), which contains information on a range of six-digit NAICS industries (see [marketsDocumentation.txt](marketsDocumentation.txt)). For this, we have used the Stata `do` file [readymixConcrete.do](readymixConcrete.do), which can easily be adapted to extract data for other industries."
   ]
  },
  {
   "cell_type": "code",
   "execution_count": null,
   "metadata": {
    "collapsed": true
   },
   "outputs": [],
   "source": [
    "Data = importdata('readymixConcrete.txt',',', 1);\n",
    "  \n",
    "totalObs = size(Data.data,1);\n",
    "Settings.tCheck = max(Data.data(:,2))+1-min(Data.data(:,2));\n",
    "Settings.rCheck = totalObs/Settings.tCheck;\n",
    "\n",
    "Data.N = reshape(Data.data(:,3),Settings.tCheck,Settings.rCheck); \n",
    "Settings.nCheck = max(max(Data.N));\n",
    "\n",
    "Data.contC = Data.data(:,4)/10000;"
   ]
  },
  {
   "cell_type": "markdown",
   "metadata": {},
   "source": [
    "Note that `Data.contC` measures population in tens of thousands of people. We need to discretize the population data on a finite grid. By changing the next three lines of the script, you can control the grid's coarseness and boundaries.  "
   ]
  },
  {
   "cell_type": "code",
   "execution_count": null,
   "metadata": {
    "collapsed": true
   },
   "outputs": [],
   "source": [
    "Settings.cCheck = 1000;\n",
    "Settings.lowBndC = 0.9*min(Data.contC);\n",
    "Settings.uppBndC = 1.1*max(Data.contC);\n",
    "\n",
    "Settings.logGrid = ...\n",
    "linspace(log(Settings.lowBndC), log(Settings.uppBndC), Settings.cCheck);\n",
    "Settings.d = Settings.logGrid(2) - Settings.logGrid(1);\n",
    "\n",
    "temp = zeros(totalObs,1);\n",
    "for i = 1:totalObs\n",
    "    test = (log(Data.contC(i))-Settings.logGrid).^2;\n",
    "    temp(i) = find(min(test)-test>=0,1);\n",
    "end\n",
    "Data.C = reshape(temp,Settings.tCheck,Settings.rCheck);"
   ]
  },
  {
   "cell_type": "markdown",
   "metadata": {},
   "source": [
    "### Estimation\n",
    "\n",
    "We compute maximum likelihood estimates using the three-step nested fixed-point procedure outlined in [Abbring et al. (2017)](https://edubb.uvt.nl/bbcswebdav/pid-1678085-dt-content-rid-5981553_1/courses/325134-2017-2018/acty1b.pdf). \n",
    "\n",
    "#### Step 1\n",
    "The first step estimates the parameters of the population process directly from the population data."
   ]
  },
  {
   "cell_type": "code",
   "execution_count": null,
   "metadata": {
    "collapsed": true
   },
   "outputs": [],
   "source": [
    "from = Data.C(1:Settings.tCheck - 1, 1:Settings.rCheck);\n",
    "to = Data.C(2:Settings.tCheck, 1:Settings.rCheck);\n",
    "\n",
    "logTransitions = log(Data.C([from(:), to(:)]));\n",
    "innovLogC = logTransitions(:, 2) - logTransitions(:, 1);\n",
    "startValues.step1 = [mean(innovLogC)  std(innovLogC)];\n",
    "\n",
    "objFunStep1 = @(estimates) likelihoodStep1(Data, Settings, estimates); \n",
    "\n",
    "tic;\n",
    "[Estimates.step1, llh.step1, exitFlag.step1] = fmincon(objFunStep1, ...\n",
    "    startValues.step1, [], [], [], [], [-inf, 0], [], [], options);\n",
    "computingTime.step1 = toc;"
   ]
  },
  {
   "cell_type": "markdown",
   "metadata": {},
   "source": [
    "#### Step 2\n",
    "The second step estimates the remaining parameters using a nested fixed-point maximum likelihood procedure, fixing the parameters of the population process to their first step estimates.\n",
    "\n",
    "By changing the next five lines of the script, you can control the model's specification (note that this Matlab code, unlike the R/C++ code that was used to produce the simulation and empirical results in [Abbring et al. (2017)](https://edubb.uvt.nl/bbcswebdav/pid-1678085-dt-content-rid-5981553_1/courses/325134-2017-2018/acty1b.pdf), does not allow for market heterogeneity or economic barriers to entry). "
   ]
  },
  {
   "cell_type": "code",
   "execution_count": null,
   "metadata": {
    "collapsed": true
   },
   "outputs": [],
   "source": [
    "Param.rho = 1/1.05; \n",
    "Settings.estimates2k = @(x) [x(1:3) x(4)*ones(1,Settings.nCheck-3)];\n",
    "Settings.estimates2phi = @(x) x(5);\n",
    "Settings.estimates2omega = @(x) x(6);\n",
    "startValues.step2 = [0.4 0.4 0.4 0.4 25 1.6];\n",
    "\n",
    "Param = markov(Param, Settings, Estimates.step1(1), Estimates.step1(2));\n",
    "\n",
    "objFunStep2 = @(estimates) likelihoodStep2(Data, Settings, Param, estimates);\n",
    "\n",
    "lb = zeros(size(startValues.step2));\n",
    "\n",
    "tic;\n",
    "[Estimates.step2,llh.step2,exitFlag.step2] = fmincon(objFunStep2, ...\n",
    "    startValues.step2, [], [], [], [], lb, [], [], options);\n",
    "computingTime.step2 = toc;"
   ]
  },
  {
   "cell_type": "markdown",
   "metadata": {},
   "source": [
    "#### Step 3\n",
    "The last step maximizes the full likelihood, starting from the previous steps' estimates, to produce efficient estimates and correct standard errors.  "
   ]
  },
  {
   "cell_type": "code",
   "execution_count": null,
   "metadata": {
    "collapsed": true
   },
   "outputs": [],
   "source": [
    "startValuesStep3 = [Estimates.step2, Estimates.step1];\n",
    "\n",
    "objFunStep3 = @(estimates) likelihoodStep3(Data, Settings, Param, estimates);\n",
    "\n",
    "lb = zeros(size(startValuesStep3));\n",
    "lb(length(startValuesStep3) - 1) = -inf;\n",
    "\n",
    "tic;\n",
    "[Estimates.step3, llh.step3, exitFlag.step3] = fmincon(objFunStep3,...\n",
    "    startValuesStep3, [], [], [], [], lb, [], [], options);\n",
    "computingTime.step3 = toc;\n",
    "\n",
    "[~,Estimates.se] = likelihoodStep3(Data, Settings, Param, Estimates.step3);"
   ]
  },
  {
   "cell_type": "markdown",
   "metadata": {},
   "source": [
    "## Questions\n",
    "### 1. Does it makes sense to treat Micropolitan Statistical Areas as distinct local markets of the Ready-Mix Concrete Manufacturing industry?"
   ]
  },
  {
   "cell_type": "markdown",
   "metadata": {},
   "source": [
    "Ready-mixed concrete is the fluid form of concrete delivered to construction sites in barrel-backed mixer\n",
    "trucks and poured into a desired shape.\n",
    "\n",
    "It can be delivered at any destination where a truck can travel and can be discharged directly to the workplace or handling equipment at the point of use. (https://www.grandviewresearch.com/industry-analysis/ready-mix-concrete-market)\n",
    "\n",
    "However, the combination of the industry’s high transport costs and its reliance on the construction sector imply that the ready-mixed “market” is not a singular, nationwide unit, but instead a collection of quasi-independent local geographic markets. \n",
    "\n",
    "\"Data from the 2002 Commodity Flow Survey indicate that the average shipment distance for the detailed product category of which ready-mixed comprises the majority of shipments (“nonrefractory mortars and concretes”) is only 32 miles.\" (http://home.uchicago.edu/~syverson/marketsrmc.pdf)\n",
    "\n",
    "Therefore, it makes sense to treat Micropolitan Statistical Areas as distinct local markets.\n"
   ]
  },
  {
   "cell_type": "markdown",
   "metadata": {},
   "source": [
    "### 2. Interpret and discuss the estimation results."
   ]
  },
  {
   "cell_type": "markdown",
   "metadata": {},
   "source": [
    "The estimated values of coefficients obtained are as follows:\n",
    "\n",
    "- $\\mu_{C}*10^{2}=0.34$, which refers to the mean of demand growth on the market. This result can be interpreted the following way: on average the population, which represents the demand on the market, growth by 0.34% annually.\n",
    "\n",
    "- $\\sigma_C*10^2=1.12$, providing the variance of the demand growth, i.e. growth of population on the market. From this we can conclude that the growth of population is rather unstable due to a high standard deviation comparing to an average annual growth. This is in line with the findings of Allan Collard-Wexler(https://onlinelibrary.wiley.com/doi/epdf/10.3982/ECTA6877), who noted that since the size of the local construction industry fluctuates by an average of 30%per year,the ready-mix concrete industry experiences large changes in demand.\n",
    "\n",
    "- $\\phi=27.72$, the parameter of the sunk costs to entry $\\phi e^{W_t}$. This can be interpreted in comparance to the costs of staying on the market. As the entry costs is almost 28 times higher comparing to the staying costs, that means that we can expect that companies would 'enter' the market for a relatively long period due to the fact that high entry costs make it unprofitable to enter market and leave soon.\n",
    "\n",
    "- $\\omega=1.59$, the scale parameter of log-normal distribution of exponent of the costs shock $W_t$, which gives the idea about the level of variance of the costs shock.\n",
    "\n",
    "- $k_1*10^4=0.38$. In order to find out the interpretation of this parameter, minor transformation should be conducted. Thus, $\\frac{1}{k_1*10^3}=\\frac{1}{0.038}=26.3$. This means that 26.3 thousand population would ensure zero surplus for a monopolist on the market.\n",
    "\n",
    "- $k_2*10^4=0.26$. This coefficient is respective to the previous one but for 2 companies on the market. However, the transformation and consequently, interpretation, whould be slightly different. In particular,  $\\frac{k_2}{k_1}=\\frac{0.26}{0.38}=0.684$. From here we could conclude that if on the monopolistic market one more company appears, it reduces the expected surplus by almost 32%\n",
    "\n",
    "- $k_3*10^4=0.22$. Similiarly, the following parameter can be interpreted: $\\frac{k_3}{k_2}=\\frac{0.22}{0.26}=0.846$. Thus, if one more company enters the market with two companies, it reduces the expected surplus by almost around 15.4%.\n",
    "\n",
    "- $k_4*10^4=0.17$. Finally: $\\frac{k_4}{k_3}=\\frac{0.17}{0.22}=0.773$. Thus, if one more company enters the market with three companies, and the number of companies reaches the maximum possible value, it reduces the expected surplus by almost around 23%\n",
    "\n",
    "It should also be noted that the obtained results stay in line with what we would expect for $k_i$ parameters according to the existing literature. In particular, it can be noted that the speed of surplus reduction is decreasing with each additional compamy entering the market. It can be explained by the establishment of a highly competitive market, resulting from the high substituability of the product between producers.\n"
   ]
  },
  {
   "cell_type": "markdown",
   "metadata": {},
   "source": [
    "## Bonus assignments\n",
    "### 3. Experiment with the numerical settings and discuss."
   ]
  },
  {
   "cell_type": "markdown",
   "metadata": {},
   "source": [
    "### 4. Try different model specifications and discuss."
   ]
  },
  {
   "cell_type": "markdown",
   "metadata": {},
   "source": [
    "### 5. Estimate the model for different industries and discuss. "
   ]
  },
  {
   "cell_type": "markdown",
   "metadata": {},
   "source": [
    "## References\n",
    "\n",
    "- Abbring, Jaap, Jeffrey Campbell, Jan Tilly and Nan Yang (2017; Revised April 2018). Very simple Markov-perfect industry dynamics: Empirics. Discussion Paper 2017-021. CentER, Tilburg. https://edubb.uvt.nl/bbcswebdav/pid-1678085-dt-content-rid-5981553_1/courses/325134-2017-2018/acty1b.pdf"
   ]
  }
 ],
 "metadata": {
  "kernelspec": {
   "display_name": "Matlab",
   "language": "matlab",
   "name": "matlab"
  },
  "language_info": {
   "codemirror_mode": "octave",
   "file_extension": ".m",
   "help_links": [
    {
     "text": "MetaKernel Magics",
     "url": "https://github.com/calysto/metakernel/blob/master/metakernel/magics/README.md"
    }
   ],
   "mimetype": "text/x-octave",
   "name": "matlab",
   "version": "0.15.0"
  }
 },
 "nbformat": 4,
 "nbformat_minor": 1
}
